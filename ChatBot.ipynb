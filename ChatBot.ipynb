{
 "cells": [
  {
   "cell_type": "code",
   "execution_count": 4,
   "id": "20a0d90b",
   "metadata": {},
   "outputs": [],
   "source": [
    "import getpass\n",
    "import os\n",
    "\n",
    "os.environ[\"LANGCHAIN_TRACING_V2\"]=\"true\"\n",
    "os.environ[\"LANGCHAIN_PROJECT_NAME\"]=\"ChatBot\"\n",
    "os.environ[\"LANGCHAIN_API-KEY\"]=getpass.getpass(\"Enter you LangSmith api key: \")"
   ]
  },
  {
   "cell_type": "code",
   "execution_count": null,
   "id": "7b92e7bd",
   "metadata": {},
   "outputs": [],
   "source": [
    "import os\n",
    "import getpass\n",
    "from langchain_groq import ChatGroq\n",
    "\n",
    "os.environ[\"GROQ_API_KEY\"]=getpass.getpass(\"Enter yor Groq API key: \")\n",
    "\n",
    "model=ChatGroq(\n",
    "    model=\"llama3-8b-8192\"\n",
    ")\n"
   ]
  },
  {
   "cell_type": "code",
   "execution_count": 6,
   "id": "0105e72a",
   "metadata": {},
   "outputs": [
    {
     "data": {
      "text/plain": [
       "AIMessage(content=\"Assalamu alaikum Bilal! It's nice to meet you! Is there something I can help you with or would you like to chat?\", additional_kwargs={}, response_metadata={'token_usage': {'completion_tokens': 33, 'prompt_tokens': 16, 'total_tokens': 49, 'completion_time': 0.030165899, 'prompt_time': 0.00731156, 'queue_time': 0.379678906, 'total_time': 0.037477459}, 'model_name': 'llama3-8b-8192', 'system_fingerprint': 'fp_0fb809dba3', 'service_tier': 'on_demand', 'finish_reason': 'stop', 'logprobs': None}, id='run--9a5da79c-0a14-4af9-ab93-2ce6d2359608-0', usage_metadata={'input_tokens': 16, 'output_tokens': 33, 'total_tokens': 49})"
      ]
     },
     "execution_count": 6,
     "metadata": {},
     "output_type": "execute_result"
    }
   ],
   "source": [
    "from langchain_core.messages import HumanMessage\n",
    "\n",
    "model.invoke([HumanMessage(content=\"hi, i am bilal\")])"
   ]
  },
  {
   "cell_type": "code",
   "execution_count": null,
   "id": "f5bc3486",
   "metadata": {},
   "outputs": [],
   "source": []
  }
 ],
 "metadata": {
  "kernelspec": {
   "display_name": "Python 3",
   "language": "python",
   "name": "python3"
  },
  "language_info": {
   "codemirror_mode": {
    "name": "ipython",
    "version": 3
   },
   "file_extension": ".py",
   "mimetype": "text/x-python",
   "name": "python",
   "nbconvert_exporter": "python",
   "pygments_lexer": "ipython3",
   "version": "3.12.3"
  }
 },
 "nbformat": 4,
 "nbformat_minor": 5
}
